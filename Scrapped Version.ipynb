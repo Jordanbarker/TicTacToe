{
 "cells": [
  {
   "cell_type": "code",
   "execution_count": 1,
   "metadata": {},
   "outputs": [
    {
     "data": {
      "text/plain": [
       "\"'X' wins!\""
      ]
     },
     "execution_count": 1,
     "metadata": {},
     "output_type": "execute_result"
    },
    {
     "data": {
      "image/png": "[encoded data removed]",
      "text/plain": [
       "<Figure size 1800x200 with 9 Axes>"
      ]
     },
     "metadata": {},
     "output_type": "display_data"
    }
   ],
   "source": [
    "import numpy as np\n",
    "from numpy.random import default_rng\n",
    "\n",
    "rng = default_rng()\n",
    "\n",
    "import matplotlib.pyplot as plt\n",
    "\n",
    "\n",
    "'''\n",
    "Determine if either player has won\n",
    "'''\n",
    "def check_board(board):\n",
    "    rows, cols = board.shape\n",
    "    assert rows == cols, \"check_board() assumes a square board.\"\n",
    "    for row in range(rows):\n",
    "        if abs(sum(board[row])) == rows:\n",
    "            return 1\n",
    "        if abs(sum(board[:, row])) == rows:\n",
    "            return 1\n",
    "    if abs(sum(board.diagonal())) == rows:\n",
    "        return 1\n",
    "    if abs(sum(np.flip(board, 0).diagonal())) == rows:\n",
    "        return 1\n",
    "    return 0\n",
    "\n",
    "\n",
    "'''\n",
    "Draw Matplotlib board\n",
    "'''\n",
    "def draw_board(axes, board, round):\n",
    "    axes[round].set(title=round + 1)\n",
    "    axes[round].axis(\"off\")\n",
    "    axes[round].plot([0.5, 0.5], [-0.5, 2.5], color=\"black\", linewidth=3)\n",
    "    axes[round].plot([1.5, 1.5], [-0.5, 2.5], color=\"black\", linewidth=3)\n",
    "    axes[round].plot([-0.5, 2.5], [0.5, 0.5], color=\"black\", linewidth=3)\n",
    "    axes[round].plot([-0.5, 2.5], [1.5, 1.5], color=\"black\", linewidth=3)\n",
    "\n",
    "    taken_spaces = np.where(board != 0)\n",
    "    for i in range(len(taken_spaces[0])):\n",
    "        if board[taken_spaces[0][i], taken_spaces[1][i]] == 1:\n",
    "            axes[round].annotate(\n",
    "                \"X\",\n",
    "                (taken_spaces[0][i], taken_spaces[1][i]),\n",
    "                size=20,\n",
    "                ha=\"center\",\n",
    "                va=\"center\",\n",
    "            )\n",
    "        else:\n",
    "            axes[round].annotate(\n",
    "                \"O\",\n",
    "                (taken_spaces[0][i], taken_spaces[1][i]),\n",
    "                size=20,\n",
    "                ha=\"center\",\n",
    "                va=\"center\",\n",
    "            )\n",
    "\n",
    "'''\n",
    "Plays 1 round of TicTacToe. Draws the board each turn.\n",
    "'''\n",
    "def play_game():\n",
    "    fig, axes = plt.subplots(1, 9, figsize=(18, 2))\n",
    "    board = np.zeros((3, 3))\n",
    "\n",
    "    player = [1, -1][rng.integers(2)]  # Randomly pick first player\n",
    "    player_dict = {1: \"X\", -1: \"O\"}\n",
    "\n",
    "    for round in range(9):\n",
    "\n",
    "        available_moves = np.where(board == 0)\n",
    "        num_moves = len(available_moves[0])\n",
    "\n",
    "        if num_moves == 0:\n",
    "            return \"Draw!\"\n",
    "        else:\n",
    "            random_choice = rng.integers(num_moves)\n",
    "            board[\n",
    "                available_moves[0][random_choice], available_moves[1][random_choice]\n",
    "            ] = player\n",
    "            # for i in range(num_moves):\n",
    "            #   print(available_moves[0][i], available_moves[1][i])\n",
    "\n",
    "        draw_board(axes, board, round)\n",
    "\n",
    "        if check_board(board) == 1:\n",
    "\n",
    "            # Don't show remaining boards\n",
    "            for remaining_axes in axes[round:9]:\n",
    "                remaining_axes.axis(\"off\")\n",
    "\n",
    "            return f\"'{player_dict[player]}' wins!\"\n",
    "\n",
    "        player = player * -1  # Alternate player each round\n",
    "\n",
    "\n",
    "play_game()"
   ]
  },
  {
   "cell_type": "code",
   "execution_count": 2,
   "metadata": {},
   "outputs": [
    {
     "data": {
      "text/plain": [
       "array([[-1.,  1., -1.],\n",
       "       [ 1.,  1.,  1.],\n",
       "       [ 1., -1., -1.]])"
      ]
     },
     "execution_count": 2,
     "metadata": {},
     "output_type": "execute_result"
    }
   ],
   "source": [
    "# Populate board for testing\n",
    "board = np.zeros((3, 3))\n",
    "player = [1, -1][rng.integers(2)]\n",
    "for round in range(9):\n",
    "  available_moves = np.where(board == 0)\n",
    "  num_moves = len(available_moves[0])\n",
    "  random_choice = rng.integers(num_moves)\n",
    "  board[available_moves[0][random_choice], available_moves[1][random_choice]] = player\n",
    "  player = player * -1\n",
    "board"
   ]
  }
 ],
 "metadata": {
  "kernelspec": {
   "display_name": "Python 3.10.2 64-bit",
   "language": "python",
   "name": "python3"
  },
  "language_info": {
   "codemirror_mode": {
    "name": "ipython",
    "version": 3
   },
   "file_extension": ".py",
   "mimetype": "text/x-python",
   "name": "python",
   "nbconvert_exporter": "python",
   "pygments_lexer": "ipython3",
   "version": "3.10.2"
  },
  "orig_nbformat": 4,
  "vscode": {
   "interpreter": {
    "hash": "3d9784d0c1fa72e3976f2fe5132dac07a008d610edaa6b89863035833cd9bb32"
   }
  }
 },
 "nbformat": 4,
 "nbformat_minor": 2
}
