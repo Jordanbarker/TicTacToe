{
 "cells": [
  {
   "cell_type": "code",
   "execution_count": 1,
   "metadata": {},
   "outputs": [],
   "source": [
    "# import sys\n",
    "# sys.path.append(r\"C:\\Users\\Documents\\Code\\TicTacToe\\gym-TicTacToe\")\n",
    "\n",
    "import numpy as np\n",
    "from numpy.random import default_rng\n",
    "rng = default_rng()\n",
    "import matplotlib.pyplot as plt\n",
    "import gym\n",
    "from gym import spaces\n",
    "import pygame\n",
    "import gym_TicTacToe\n",
    "import time"
   ]
  },
  {
   "cell_type": "code",
   "execution_count": 5,
   "metadata": {},
   "outputs": [
    {
     "name": "stdout",
     "output_type": "stream",
     "text": [
      "Debug!\n"
     ]
    },
    {
     "name": "stderr",
     "output_type": "stream",
     "text": [
      "c:\\Users\\jbarker\\AppData\\Local\\Programs\\Python\\Python310\\lib\\site-packages\\gym\\utils\\passive_env_checker.py:233: DeprecationWarning: `np.bool8` is a deprecated alias for `np.bool_`.  (Deprecated NumPy 1.24)\n",
      "  if not isinstance(terminated, (bool, np.bool8)):\n"
     ]
    },
    {
     "name": "stdout",
     "output_type": "stream",
     "text": [
      "[ 0  0  0 -1  0  0  0  0  0] -1\n",
      "[ 0  1  0 -1  0  0  0  0  0] -1\n",
      "[ 0  1  0 -1  0  0  0 -1  0] -1\n",
      "[ 0  1  0 -1  0  0  1 -1  0] -1\n",
      "[ 0  1  0 -1 -1  0  1 -1  0] -1\n",
      "[ 1  1  0 -1 -1  0  1 -1  0] -1\n",
      "[ 1  1 -1 -1 -1  0  1 -1  0] -1\n",
      "[ 1  1 -1 -1 -1  0  1 -1  1] 0\n"
     ]
    },
    {
     "ename": "",
     "evalue": "",
     "output_type": "error",
     "traceback": [
      "\u001b[1;31mThe Kernel crashed while executing code in the the current cell or a previous cell. Please review the code in the cell(s) to identify a possible cause of the failure. Click <a href='https://aka.ms/vscodeJupyterKernelCrash'>here</a> for more info. View Jupyter <a href='command:jupyter.viewOutput'>log</a> for further details."
     ]
    }
   ],
   "source": [
    "env = gym.make(\"gym_TicTacToe/TicTacToe-v0\", render_mode=\"human\")\n",
    "observation, info = env.reset()\n",
    "#env.step(env.action_space.sample())\n",
    "#env.step(env.action_space.sample())\n",
    "env.render()\n",
    "observation, info\n",
    "\n",
    "for turn in range(9):\n",
    "  observation, reward, terminated,_,_ = env.step(env.get_random_move())\n",
    "  #env.render()\n",
    "  print(observation, reward)\n",
    "  time.sleep(1)\n",
    "  if terminated:\n",
    "    break;\n",
    "\n",
    "env.close()"
   ]
  },
  {
   "cell_type": "code",
   "execution_count": 3,
   "metadata": {},
   "outputs": [
    {
     "data": {
      "text/plain": [
       "array([[-1.,  1., -1.],\n",
       "       [ 1.,  1.,  1.],\n",
       "       [-1.,  1., -1.]])"
      ]
     },
     "execution_count": 3,
     "metadata": {},
     "output_type": "execute_result"
    }
   ],
   "source": [
    "# Populate board for testing\n",
    "board = np.zeros((3, 3))\n",
    "player = [1, -1][rng.integers(2)]\n",
    "for round in range(9):\n",
    "  available_moves = np.where(board == 0)\n",
    "  num_moves = len(available_moves[0])\n",
    "  random_choice = rng.integers(num_moves)\n",
    "  board[available_moves[0][random_choice], available_moves[1][random_choice]] = player\n",
    "  player = player * -1\n",
    "board"
   ]
  },
  {
   "attachments": {},
   "cell_type": "markdown",
   "metadata": {},
   "source": [
    "# Reinforcement Learning\n",
    "\n",
    "Reference: https://pytorch.org/tutorials/intermediate/reinforcement_q_learning.html\n"
   ]
  },
  {
   "cell_type": "code",
   "execution_count": 2,
   "metadata": {},
   "outputs": [],
   "source": [
    "import math\n",
    "import random\n",
    "import matplotlib\n",
    "from collections import namedtuple, deque\n",
    "from itertools import count\n",
    "\n",
    "import torch\n",
    "import torch.nn as nn\n",
    "import torch.optim as optim\n",
    "import torch.nn.functional as F\n",
    "\n",
    "env = gym.make(\"gym_TicTacToe/TicTacToe-v0\")\n",
    "\n",
    "# set up matplotlib\n",
    "is_ipython = \"inline\" in matplotlib.get_backend()\n",
    "if is_ipython:\n",
    "    from IPython import display\n",
    "\n",
    "plt.ion()\n",
    "\n",
    "# if gpu is to be used\n",
    "device = torch.device(\"cuda\" if torch.cuda.is_available() else \"cpu\")\n",
    "\n",
    "Transition = namedtuple(\"Transition\", (\"state\", \"action\", \"next_state\", \"reward\"))\n",
    "\n",
    "class ReplayMemory(object):\n",
    "    def __init__(self, capacity):\n",
    "        self.memory = deque([], maxlen=capacity)\n",
    "\n",
    "    def push(self, *args):\n",
    "        \"\"\"Save a transition\"\"\"\n",
    "        self.memory.append(Transition(*args))\n",
    "\n",
    "    def sample(self, batch_size):\n",
    "        return random.sample(self.memory, batch_size)\n",
    "\n",
    "    def __len__(self):\n",
    "        return len(self.memory)\n",
    "\n",
    "\n",
    "class DQN(nn.Module):\n",
    "    def __init__(self, n_observations, n_actions, layer_size=32):\n",
    "        super(DQN, self).__init__()\n",
    "        self.layer1 = nn.Linear(n_observations, layer_size)\n",
    "        self.layer2 = nn.Linear(layer_size, layer_size)\n",
    "        self.layer3 = nn.Linear(layer_size, n_actions)\n",
    "\n",
    "    # Called with either one element to determine next action, or a batch during optimization\n",
    "    def forward(self, x):\n",
    "        x = F.relu(self.layer1(x))\n",
    "        x = F.relu(self.layer2(x))\n",
    "        return self.layer3(x)\n",
    "\n",
    "\n",
    "def optimize_model():\n",
    "    if len(memory) < BATCH_SIZE:\n",
    "        return\n",
    "    transitions = memory.sample(BATCH_SIZE)\n",
    "    # Transpose the batch (see https://stackoverflow.com/a/19343/3343043 for detailed explanation). \n",
    "    # This converts batch-array of Transitions to Transition of batch-arrays.\n",
    "    batch = Transition(*zip(*transitions))\n",
    "\n",
    "    # Compute a mask of non-final states and concatenate the batch elements\n",
    "    # (a final state would've been the one after which simulation ended)\n",
    "    non_final_mask = torch.tensor(\n",
    "        tuple(map(lambda s: s is not None, batch.next_state)),\n",
    "        device=device,\n",
    "        dtype=torch.bool,\n",
    "    )\n",
    "    non_final_next_states = torch.cat([s for s in batch.next_state if s is not None])\n",
    "\n",
    "    state_batch = torch.cat(batch.state)\n",
    "    action_batch = torch.cat(batch.action)\n",
    "    reward_batch = torch.cat(batch.reward)\n",
    "    #print(state_batch.shape, action_batch.shape, reward_batch.shape)\n",
    "\n",
    "    # Compute Q(s_t, a) - the model computes Q(s_t), then we select the\n",
    "    # columns of actions taken. These are the actions which would've been taken\n",
    "    # for each batch state according to policy_net\n",
    "    state_action_values = policy_net(state_batch).gather(1, action_batch)\n",
    "\n",
    "    # Compute V(s_{t+1}) for all next states.\n",
    "    # Expected values of actions for non_final_next_states are computed based\n",
    "    # on the \"older\" target_net; selecting their best reward with max(1)[0].\n",
    "    # This is merged based on the mask, such that we'll have either the expected\n",
    "    # state value or 0 in case the state was final.\n",
    "    next_state_values = torch.zeros(BATCH_SIZE, device=device)\n",
    "    with torch.no_grad():\n",
    "        next_state_values[non_final_mask] = target_net(non_final_next_states).max(1)[0]\n",
    "    # Compute the expected Q values\n",
    "    expected_state_action_values = (next_state_values * GAMMA) + reward_batch\n",
    "\n",
    "    # Compute Huber loss\n",
    "    criterion = nn.SmoothL1Loss()\n",
    "    loss = criterion(state_action_values, expected_state_action_values.unsqueeze(1))\n",
    "\n",
    "    # Optimize the model\n",
    "    optimizer.zero_grad()\n",
    "    loss.backward()\n",
    "    # In-place gradient clipping\n",
    "    torch.nn.utils.clip_grad_value_(policy_net.parameters(), 100)\n",
    "    optimizer.step()\n",
    "\n",
    "def select_action(observation):\n",
    "    global steps_done\n",
    "    steps_done += 1\n",
    "    sample = random.random()\n",
    "    eps_threshold = EPS_END + (EPS_START - EPS_END) * math.exp(-1.0 * steps_done / EPS_DECAY)\n",
    "    if sample > eps_threshold:\n",
    "        with torch.no_grad():\n",
    "            return select_best_valid_action(observation)\n",
    "\n",
    "    # Randomly select move based on eps or if policy net move is invalid.\n",
    "    return torch.tensor([[env.get_random_move()]], device=device, dtype=torch.int8)\n",
    "\n",
    "def select_best_valid_action(observation):\n",
    "    \"\"\"\n",
    "    Selects the best valid action based on the output of the policy network.\n",
    "\n",
    "    :param policy_net_output: A tensor with the output of the policy network.\n",
    "    :return: The index of the best valid action.\n",
    "    \"\"\"\n",
    "    # Sort the actions based on their values in descending order\n",
    "    policy_net_output = policy_net(observation)\n",
    "    sorted_indices = torch.argsort(policy_net_output, descending=True)[0]\n",
    "\n",
    "    # Iterate over the sorted indices and return the first valid action\n",
    "    for idx in sorted_indices:\n",
    "        if idx.item() in env.get_available_moves():\n",
    "            return idx.view(1,1)\n",
    "            \n",
    "    # return random action as a fallback\n",
    "    return torch.tensor([[env.get_random_move()]], device=device, dtype=torch.int8)\n",
    "\n",
    "\n",
    "BATCH_SIZE = 128  # BATCH_SIZE is the number of transitions sampled from the replay buffer\n",
    "GAMMA = 0.99  # GAMMA is the discount factor\n",
    "EPS_START = 0.9  # EPS_START is the starting value of epsilon\n",
    "EPS_END = 0.05  # EPS_END is the final value of epsilon\n",
    "EPS_DECAY = 1000  # EPS_DECAY controls the rate of exponential decay of epsilon, higher means a slower decay\n",
    "TAU = 0.005  # TAU is the update rate of the target network\n",
    "LR = 1e-4  # LR is the learning rate of the AdamW optimizer\n",
    "\n",
    "observation, info = env.reset()\n",
    "n_observations = len(observation)\n",
    "n_actions = env.action_space.n\n",
    "\n",
    "policy_net = DQN(n_observations, n_actions).to(device)\n",
    "target_net = DQN(n_observations, n_actions).to(device)\n",
    "target_net.load_state_dict(policy_net.state_dict())\n",
    "\n",
    "optimizer = optim.AdamW(policy_net.parameters(), lr=LR, amsgrad=True)\n",
    "memory = ReplayMemory(10000)\n",
    "\n",
    "steps_done = 0\n",
    "episode_durations = []\n",
    "\n",
    "def plot_durations(show_result=False):\n",
    "    plt.figure(1)\n",
    "    durations_t = torch.tensor(episode_durations, dtype=torch.float)\n",
    "    if show_result:\n",
    "        plt.title(\"Result\")\n",
    "    else:\n",
    "        plt.clf()\n",
    "        plt.title(\"Training...\")\n",
    "    \n",
    "    plt.xlabel(\"Episode\")\n",
    "    plt.ylabel(\"Duration\")\n",
    "    plt.plot(durations_t.numpy())\n",
    "    if len(durations_t) >= 100:\n",
    "        # Take 100 episode averages and plot them too\n",
    "        means = durations_t.unfold(0, 100, 1).mean(1).view(-1)\n",
    "        means = torch.cat((torch.zeros(99), means))\n",
    "        plt.plot(means.numpy())\n",
    "\n",
    "    plt.pause(0.001)  # pause a bit so that plots are updated\n",
    "    if is_ipython:\n",
    "        if not show_result:\n",
    "            display.display(plt.gcf())\n",
    "            display.clear_output(wait=True)\n",
    "        else:\n",
    "            display.display(plt.gcf())"
   ]
  },
  {
   "cell_type": "code",
   "execution_count": 3,
   "metadata": {},
   "outputs": [
    {
     "name": "stdout",
     "output_type": "stream",
     "text": [
      "Complete\n"
     ]
    },
    {
     "data": {
      "image/png": "[encoded data removed]",
      "text/plain": [
       "<Figure size 640x480 with 1 Axes>"
      ]
     },
     "metadata": {},
     "output_type": "display_data"
    },
    {
     "data": {
      "text/plain": [
       "<Figure size 640x480 with 0 Axes>"
      ]
     },
     "metadata": {},
     "output_type": "display_data"
    },
    {
     "data": {
      "text/plain": [
       "<Figure size 640x480 with 0 Axes>"
      ]
     },
     "metadata": {},
     "output_type": "display_data"
    }
   ],
   "source": [
    "num_episodes = 2000\n",
    "\n",
    "for i_episode in range(num_episodes):\n",
    "\n",
    "    # Initialize the environment and get it's state/observation\n",
    "    observation, info = env.reset()\n",
    "    observation = torch.tensor(observation, dtype=torch.float32, device=device).unsqueeze(0)\n",
    "    players_turn = info['players_turn']\n",
    "    \n",
    "    for t in count():\n",
    "        if players_turn == 1: # Player 1 chooses randomly\n",
    "            action = torch.tensor([[env.get_random_move()]], device=device, dtype=torch.int8)\n",
    "            observation, _, terminated, _, _ = env.step(action.item())\n",
    "            observation = torch.tensor(observation, dtype=torch.float32, device=device).unsqueeze(0)\n",
    "        else: # Player -1 is the Q-learner\n",
    "            action = select_action(observation)\n",
    "            observation_prev = observation\n",
    "            observation, reward, terminated, _, _ = env.step(action.item())\n",
    "            observation = None if terminated else torch.tensor(observation, dtype=torch.float32, device=device).unsqueeze(0)\n",
    "            reward = torch.tensor([reward], device=device)\n",
    "\n",
    "            # Store the transition in memory\n",
    "            memory.push(observation_prev, action, observation, reward)\n",
    "\n",
    "            # Perform one step of the optimization (on the policy network)\n",
    "            optimize_model()\n",
    "\n",
    "            # Soft update of the target network's weights\n",
    "            # θ′ ← τ θ + (1 −τ )θ′\n",
    "            target_net_state_dict = target_net.state_dict()\n",
    "            policy_net_state_dict = policy_net.state_dict()\n",
    "            for key in policy_net_state_dict:\n",
    "                target_net_state_dict[key] = policy_net_state_dict[key] * \\\n",
    "                    TAU + target_net_state_dict[key] * (1 - TAU)\n",
    "            target_net.load_state_dict(target_net_state_dict)\n",
    "\n",
    "        if terminated:\n",
    "            episode_durations.append(t + 1)\n",
    "            plot_durations()\n",
    "            break\n",
    "        players_turn *= -1 # Alternate player turns\n",
    "\n",
    "print(\"Complete\")\n",
    "plot_durations(show_result=True)\n",
    "plt.ioff()\n",
    "plt.show()"
   ]
  },
  {
   "attachments": {},
   "cell_type": "markdown",
   "metadata": {},
   "source": [
    "# View model plays"
   ]
  },
  {
   "cell_type": "code",
   "execution_count": 7,
   "metadata": {},
   "outputs": [
    {
     "name": "stdout",
     "output_type": "stream",
     "text": [
      "\n",
      "Round 1\n",
      "[ 51.901783   41.927235  100.         13.553703   38.922028    7.3467145\n",
      "  34.686115    0.          3.321969 ]\n",
      "\n",
      "Round 3\n",
      "[ 56.072933   48.451298  100.         14.641831   32.65919     8.012061\n",
      "  28.18718     0.          2.5463288]\n",
      "\n",
      "Round 5\n",
      "[ 55.955418   51.15338   100.         14.016268   29.26124     7.801595\n",
      "  26.880402    0.          4.7583613]\n"
     ]
    },
    {
     "data": {
      "image/png": "[encoded data removed]",
      "text/plain": [
       "<Figure size 1800x200 with 9 Axes>"
      ]
     },
     "metadata": {},
     "output_type": "display_data"
    }
   ],
   "source": [
    "import matplotlib.pyplot as plt\n",
    "import numpy as np\n",
    "import torch\n",
    "from matplotlib import cm\n",
    "\n",
    "def normalize_values(values):\n",
    "    min_val = torch.min(values)\n",
    "    max_val = torch.max(values)\n",
    "    normalized = (values - min_val) / (max_val - min_val)\n",
    "    return normalized.numpy()*100\n",
    "\n",
    "def draw_board(axes, board, round, q_values=None):\n",
    "    axes[round].set(title=f\"Round {round + 1}\")\n",
    "    axes[round].axis(\"off\")\n",
    "    axes[round].set_xlim(-0.5, 2.5)\n",
    "    axes[round].set_ylim(-0.5, 2.5)\n",
    "    axes[round].plot([0.5, 0.5], [-0.5, 2.5], color=\"black\", linewidth=3)\n",
    "    axes[round].plot([1.5, 1.5], [-0.5, 2.5], color=\"black\", linewidth=3)\n",
    "    axes[round].plot([-0.5, 2.5], [0.5, 0.5], color=\"black\", linewidth=3)\n",
    "    axes[round].plot([-0.5, 2.5], [1.5, 1.5], color=\"black\", linewidth=3)\n",
    "\n",
    "    # Plot each square with color based on Q-value\n",
    "    if q_values is not None:\n",
    "        cmap = cm.get_cmap('Blues')\n",
    "        for i in range(3):\n",
    "            for j in range(3):\n",
    "                color = cmap(int(q_values[i * 3 + j]))\n",
    "                axes[round].add_patch(plt.Rectangle((j-0.5, 1.5-i), 1, 1, color=color, alpha=0.8))\n",
    "\n",
    "    taken_spaces = np.where(board != 0)\n",
    "    for i in range(len(taken_spaces[0])):\n",
    "        player = \"O\" if board[taken_spaces[0][i], taken_spaces[1][i]] == 1 else \"X\"\n",
    "        axes[round].annotate(\n",
    "            player, (taken_spaces[1][i], 2 - taken_spaces[0][i]), # Invert the y-coordinate here\n",
    "            color='black', size=20, ha=\"center\", va=\"center\", weight='bold'\n",
    "        )\n",
    "\n",
    "def play_game():\n",
    "    fig, axes = plt.subplots(1, 9, figsize=(18, 2))\n",
    "    observation, info = env.reset()\n",
    "    players_turn = info['players_turn']\n",
    "    final_round = None  # Track the last round played\n",
    "\n",
    "    for round in range(9):\n",
    "        if players_turn == 1: # Player 1 (\"O\") chooses randomly\n",
    "            q_values=None\n",
    "            action = torch.tensor([[env.get_random_move()]], device=device, dtype=torch.int8)\n",
    "        else: # Player -1 (\"X\") is the Q-learner\n",
    "            observation = torch.tensor(observation, dtype=torch.float32, device=device).unsqueeze(0)\n",
    "            q_values = policy_net(observation).detach().squeeze()\n",
    "            q_values = normalize_values(q_values)\n",
    "            action = select_best_valid_action(observation)\n",
    "            print(f\"\\nRound {round+1}\")\n",
    "            # print(observation)\n",
    "            print(q_values)\n",
    "            board = np.zeros(3*3)\n",
    "            board[action] = 1\n",
    "            #print(f\"Best action: {action[0].item()} \\n\", np.flipud(board.reshape(3,3)))\n",
    "        \n",
    "        observation, _, terminated, _, _ = env.step(action.item())\n",
    "        board = observation.reshape(3,3)\n",
    "        draw_board(axes, board, round, q_values=q_values)\n",
    "        if terminated:\n",
    "            final_round = round\n",
    "            break\n",
    "        players_turn *= -1 # Alternate player turns\n",
    "\n",
    "    # If the game ends early, fill the remaining axes\n",
    "    for round in range(final_round + 1, 9):\n",
    "        # You can either clear the extra axes\n",
    "        axes[round].clear()\n",
    "        axes[round].axis('off')\n",
    "    plt.show()\n",
    "\n",
    "play_game()"
   ]
  },
  {
   "cell_type": "code",
   "execution_count": 8,
   "metadata": {},
   "outputs": [
    {
     "name": "stdout",
     "output_type": "stream",
     "text": [
      "\n",
      "Round 1\n",
      "[ 51.901783   41.927235  100.         13.553703   38.922028    7.3467145\n",
      "  34.686115    0.          3.321969 ]\n",
      "\n",
      "Round 3\n",
      "[ 53.548306  45.583096 100.        14.980491  34.023552   8.564032\n",
      "  32.06984    0.         4.689369]\n",
      "\n",
      "Round 5\n",
      "[ 54.367424  45.64514  100.        17.16855   31.71703   10.391489\n",
      "  31.30475    0.         6.695123]\n"
     ]
    },
    {
     "data": {
      "image/png": "[encoded data removed]",
      "text/plain": [
       "<Figure size 1800x200 with 9 Axes>"
      ]
     },
     "metadata": {},
     "output_type": "display_data"
    }
   ],
   "source": [
    "play_game()"
   ]
  },
  {
   "cell_type": "code",
   "execution_count": 50,
   "metadata": {},
   "outputs": [
    {
     "data": {
      "text/plain": [
       "tensor([[ 0., -1.,  1., -1.,  1., -1.,  1.,  0.,  1.]])"
      ]
     },
     "execution_count": 50,
     "metadata": {},
     "output_type": "execute_result"
    }
   ],
   "source": [
    "observation"
   ]
  },
  {
   "cell_type": "code",
   "execution_count": 49,
   "metadata": {},
   "outputs": [
    {
     "data": {
      "text/plain": [
       "tensor([16260702., 11665481., 18022284., 14434413., 17252858., 16974220.,\n",
       "        21396766., 16923474., 21551642.])"
      ]
     },
     "execution_count": 49,
     "metadata": {},
     "output_type": "execute_result"
    }
   ],
   "source": [
    "observation = torch.tensor(observation, dtype=torch.float32, device=device).unsqueeze(0)\n",
    "\n",
    "policy_net(observation).detach().squeeze()\n",
    "# q_values = normalize_values(q_values)\n",
    "# action = select_best_valid_action(observation)"
   ]
  },
  {
   "cell_type": "code",
   "execution_count": 23,
   "metadata": {},
   "outputs": [
    {
     "name": "stdout",
     "output_type": "stream",
     "text": [
      "\n",
      "Round 1\n",
      "[ 0  0 -1  0  0  0  0  0  0]\n",
      "[ 51.901783   41.927235  100.         13.553703   38.922028    7.3467145\n",
      "  34.686115    0.          3.321969 ]\n",
      "[[ 0  0 -1]\n",
      " [ 0  0  0]\n",
      " [ 0  0  0]]\n",
      "\n",
      "Round 2\n",
      "[ 1  0 -1  0  0  0  0  0  0]\n",
      "None\n",
      "[[ 1  0 -1]\n",
      " [ 0  0  0]\n",
      " [ 0  0  0]]\n",
      "\n",
      "Round 3\n",
      "[ 1 -1 -1  0  0  0  0  0  0]\n",
      "[ 55.06614   42.371223 100.        14.892599  41.77629    9.381773\n",
      "  37.159817   0.         3.243559]\n",
      "[[ 1 -1 -1]\n",
      " [ 0  0  0]\n",
      " [ 0  0  0]]\n",
      "\n",
      "Round 4\n",
      "[ 1 -1 -1  0  0  1  0  0  0]\n",
      "None\n",
      "[[ 1 -1 -1]\n",
      " [ 0  0  1]\n",
      " [ 0  0  0]]\n",
      "\n",
      "Round 5\n",
      "[ 1 -1 -1  0 -1  1  0  0  0]\n",
      "[ 55.712433   45.948208  100.         14.614685   32.626415    7.317281\n",
      "  28.228188    0.1626263   0.       ]\n",
      "[[ 1 -1 -1]\n",
      " [ 0 -1  1]\n",
      " [ 0  0  0]]\n",
      "\n",
      "Round 6\n",
      "[ 1 -1 -1  1 -1  1  0  0  0]\n",
      "None\n",
      "[[ 1 -1 -1]\n",
      " [ 1 -1  1]\n",
      " [ 0  0  0]]\n",
      "\n",
      "Round 7\n",
      "[ 1 -1 -1  1 -1  1 -1  0  0]\n",
      "[ 53.406036   42.290638  100.         15.606245   35.3512      8.34333\n",
      "  33.423122    0.          2.0543137]\n",
      "[[ 1 -1 -1]\n",
      " [ 1 -1  1]\n",
      " [-1  0  0]]\n"
     ]
    },
    {
     "data": {
      "image/png": "[encoded data removed]",
      "text/plain": [
       "<Figure size 1800x200 with 9 Axes>"
      ]
     },
     "metadata": {},
     "output_type": "display_data"
    }
   ],
   "source": [
    "def play_game_debug():\n",
    "    fig, axes = plt.subplots(1, 9, figsize=(18, 2))\n",
    "    observation, info = env.reset()\n",
    "    players_turn = info['players_turn']\n",
    "    final_round = None  # Track the last round played\n",
    "\n",
    "    for round in range(9):\n",
    "        if players_turn == 1: # Player 1 (\"O\") chooses randomly\n",
    "            q_values=None\n",
    "            action = torch.tensor([[env.get_random_move()]], device=device, dtype=torch.int8)\n",
    "        else: # Player -1 (\"X\") is the Q-learner\n",
    "            observation = torch.tensor(observation, dtype=torch.float32, device=device).unsqueeze(0)\n",
    "            q_values = policy_net(observation).detach().squeeze()\n",
    "            q_values = normalize_values(q_values)\n",
    "            action = select_best_valid_action(observation)\n",
    "            # print(f\"\\nRound {round+1}\")\n",
    "            # print(observation)\n",
    "            # print(q_values)\n",
    "            board = np.zeros(3*3)\n",
    "            board[action] = 1\n",
    "            #print(f\"Best action: {action[0].item()} \\n\", np.flipud(board.reshape(3,3)))\n",
    "        \n",
    "        observation, _, terminated, _, _ = env.step(action.item())\n",
    "        board = observation.reshape(3,3)\n",
    "        print(f\"\\nRound {round+1}\")\n",
    "        print(observation)\n",
    "        print(q_values)\n",
    "        print(board)\n",
    "        draw_board(axes, board, round, q_values=q_values)\n",
    "        if terminated:\n",
    "            final_round = round\n",
    "            break\n",
    "        players_turn *= -1 # Alternate player turns\n",
    "\n",
    "    # If the game ends early, fill the remaining axes\n",
    "    for round in range(final_round + 1, 9):\n",
    "        # You can either clear the extra axes\n",
    "        axes[round].clear()\n",
    "        axes[round].axis('off')\n",
    "    plt.show()\n",
    "\n",
    "play_game_debug()"
   ]
  },
  {
   "cell_type": "code",
   "execution_count": 11,
   "metadata": {},
   "outputs": [
    {
     "name": "stdout",
     "output_type": "stream",
     "text": [
      "tensor([[0., 0., 0., 0., 0., 0., 0., 0., 0.]])\n",
      "[ 51.901783   41.927235  100.         13.553703   38.922028    7.3467145\n",
      "  34.686115    0.          3.321969 ]\n",
      "Best action: tensor([[2]])\n"
     ]
    }
   ],
   "source": [
    "# if policy_net(observation).max(1)[1].view(1,1).item() in env.get_available_moves()\n",
    "\n",
    "\n",
    "action = torch.tensor([[env.get_random_move()]], device=device, dtype=torch.int8)\n",
    "q_values = policy_net(observation).detach().squeeze()\n",
    "q_values = normalize_values(q_values)\n",
    "print(observation)\n",
    "print(q_values)\n",
    "print(\"Best action:\",)\n",
    "# policy_net(observation).max(1)[1].view(1,1).item(), policy_net(observation).max(1)[1].view(1,1), policy_net(observation)"
   ]
  },
  {
   "cell_type": "code",
   "execution_count": 12,
   "metadata": {},
   "outputs": [
    {
     "name": "stdout",
     "output_type": "stream",
     "text": [
      "tensor([[ 0.,  0., -1.,  0.,  0.,  0.,  0.,  0.,  0.]])\n",
      "[ 53.81869   45.127434 100.        15.184609  36.366634   8.757895\n",
      "  34.17455    0.         4.207367]\n",
      "Best action: tensor([[0]])\n"
     ]
    }
   ],
   "source": [
    "observation, _, terminated, _, _ = env.step(action.item())\n",
    "observation = torch.tensor(observation, dtype=torch.float32, device=device).unsqueeze(0)\n",
    "q_values = policy_net(observation).detach().squeeze()\n",
    "q_values = normalize_values(q_values)\n",
    "print(observation)\n",
    "print(q_values)\n",
    "print(\"Best action:\",select_best_valid_action(observation))"
   ]
  },
  {
   "cell_type": "code",
   "execution_count": 90,
   "metadata": {},
   "outputs": [
    {
     "data": {
      "text/plain": [
       "tensor([[50.7902, 50.4324, 54.5763, 42.9875, 45.5905, 43.7930, 42.3887, 39.1728,\n",
       "         43.3058]], grad_fn=<AddmmBackward0>)"
      ]
     },
     "execution_count": 90,
     "metadata": {},
     "output_type": "execute_result"
    }
   ],
   "source": [
    "policy_net(observation)"
   ]
  },
  {
   "cell_type": "code",
   "execution_count": 93,
   "metadata": {},
   "outputs": [
    {
     "data": {
      "text/plain": [
       "array([0, 2, 3, 4, 5, 6, 7, 8], dtype=int64)"
      ]
     },
     "execution_count": 93,
     "metadata": {},
     "output_type": "execute_result"
    }
   ],
   "source": [
    "env.get_available_moves()"
   ]
  },
  {
   "cell_type": "code",
   "execution_count": 101,
   "metadata": {},
   "outputs": [
    {
     "data": {
      "text/plain": [
       "(tensor(7),\n",
       " 7,\n",
       " tensor([[50.7902, 50.4324, 54.5763, 42.9875, 45.5905, 43.7930, 42.3887, 39.1728,\n",
       "          43.3058]], grad_fn=<AddmmBackward0>),\n",
       " tensor([[2, 0, 1, 4, 5, 8, 3, 6, 7]]))"
      ]
     },
     "execution_count": 101,
     "metadata": {},
     "output_type": "execute_result"
    }
   ],
   "source": [
    "idx, idx.item(), policy_net_output, torch.argsort(policy_net_output, descending=True)"
   ]
  },
  {
   "cell_type": "code",
   "execution_count": 109,
   "metadata": {},
   "outputs": [
    {
     "data": {
      "text/plain": [
       "tensor([2, 0, 1, 4, 5, 8, 3, 6, 7])"
      ]
     },
     "execution_count": 109,
     "metadata": {},
     "output_type": "execute_result"
    }
   ],
   "source": [
    "torch.argsort(policy_net_output, descending=True)[0]#.item()"
   ]
  },
  {
   "cell_type": "code",
   "execution_count": null,
   "metadata": {},
   "outputs": [],
   "source": [
    "tensor([[2, 0, 1, 4, 5, 8, 3, 6, 7]])"
   ]
  },
  {
   "cell_type": "code",
   "execution_count": 112,
   "metadata": {},
   "outputs": [
    {
     "data": {
      "text/plain": [
       "array([0, 2, 3, 4, 5, 6, 7, 8], dtype=int64)"
      ]
     },
     "execution_count": 112,
     "metadata": {},
     "output_type": "execute_result"
    }
   ],
   "source": [
    "env.get_available_moves()"
   ]
  },
  {
   "cell_type": "code",
   "execution_count": 111,
   "metadata": {},
   "outputs": [
    {
     "data": {
      "text/plain": [
       "8"
      ]
     },
     "execution_count": 111,
     "metadata": {},
     "output_type": "execute_result"
    }
   ],
   "source": [
    "env.get_available_moves()[idx.item()]"
   ]
  },
  {
   "cell_type": "code",
   "execution_count": null,
   "metadata": {},
   "outputs": [
    {
     "name": "stdout",
     "output_type": "stream",
     "text": [
      "2\n",
      "0\n",
      "4\n",
      "5\n",
      "8\n",
      "3\n",
      "6\n",
      "7\n"
     ]
    }
   ],
   "source": []
  },
  {
   "cell_type": "code",
   "execution_count": 129,
   "metadata": {},
   "outputs": [
    {
     "data": {
      "text/plain": [
       "tensor([[8]])"
      ]
     },
     "execution_count": 129,
     "metadata": {},
     "output_type": "execute_result"
    }
   ],
   "source": [
    "def select_best_valid_action(observation):\n",
    "    \"\"\"\n",
    "    Selects the best valid action based on the output of the policy network.\n",
    "\n",
    "    :param policy_net_output: A tensor with the output of the policy network.\n",
    "    :return: The index of the best valid action.\n",
    "    \"\"\"\n",
    "    # Sort the actions based on their values in descending order\n",
    "    policy_net_output = policy_net(observation)\n",
    "    sorted_indices = torch.argsort(policy_net_output, descending=True)[0]\n",
    "\n",
    "    # Iterate over the sorted indices and return the first valid action\n",
    "    for idx in sorted_indices:\n",
    "        if idx.item() in env.get_available_moves():\n",
    "            return idx.view(1,1)\n",
    "    # If no valid actions, return None\n",
    "    return None\n",
    "\n",
    "select_best_valid_action(policy_net(observation))"
   ]
  },
  {
   "cell_type": "code",
   "execution_count": 24,
   "metadata": {},
   "outputs": [
    {
     "data": {
      "text/plain": [
       "[Transition(state=tensor([[1., 0., 0., 0., 0., 0., 0., 0., 0.]]), action=tensor([[4]]), next_state=tensor([[ 1.,  0.,  0.,  0., -1.,  0.,  0.,  0.,  0.]]), reward=tensor([-0.2500])),\n",
       " Transition(state=tensor([[ 1.,  0., -1.,  0., -1.,  1.,  0.,  0.,  0.]]), action=tensor([[6]]), next_state=tensor([[ 1.,  0., -1.,  0., -1.,  1., -1.,  0.,  0.]]), reward=tensor([1])),\n",
       " Transition(state=tensor([[ 0.,  1.,  1.,  0., -1., -1.,  1.,  0., -1.]]), action=tensor([[0]]), next_state=tensor([[-1.,  1.,  1.,  0., -1., -1.,  1.,  0., -1.]]), reward=tensor([1])),\n",
       " Transition(state=tensor([[ 0.,  0.,  0.,  0.,  0.,  0., -1.,  0.,  1.]]), action=tensor([[2]]), next_state=tensor([[ 0.,  0., -1.,  0.,  0.,  0., -1.,  0.,  1.]]), reward=tensor([-0.2500])),\n",
       " Transition(state=tensor([[0., 0., 0., 0., 0., 0., 0., 0., 0.]]), action=tensor([[2]]), next_state=tensor([[ 0.,  0., -1.,  0.,  0.,  0.,  0.,  0.,  0.]]), reward=tensor([-0.2500])),\n",
       " Transition(state=tensor([[ 0., -1., -1.,  0.,  0.,  1.,  1.,  0.,  0.]]), action=tensor([[0]]), next_state=tensor([[-1., -1., -1.,  0.,  0.,  1.,  1.,  0.,  0.]]), reward=tensor([1])),\n",
       " Transition(state=tensor([[ 0.,  1., -1.,  0.,  0.,  0.,  0.,  0.,  0.]]), action=tensor([[4]]), next_state=tensor([[ 0.,  1., -1.,  0., -1.,  0.,  0.,  0.,  0.]]), reward=tensor([-0.2500])),\n",
       " Transition(state=tensor([[0., 0., 0., 0., 0., 0., 0., 0., 0.]]), action=tensor([[4]]), next_state=tensor([[ 0.,  0.,  0.,  0., -1.,  0.,  0.,  0.,  0.]]), reward=tensor([-0.2500])),\n",
       " Transition(state=tensor([[ 1.,  1., -1., -1.,  0.,  0.,  1.,  0.,  0.]]), action=tensor([[4]], dtype=torch.int8), next_state=tensor([[ 1.,  1., -1., -1., -1.,  0.,  1.,  0.,  0.]]), reward=tensor([-0.2500])),\n",
       " Transition(state=tensor([[ 0.,  0.,  1.,  0., -1.,  0.,  1.,  0.,  0.]]), action=tensor([[8]]), next_state=tensor([[ 0.,  0.,  1.,  0., -1.,  0.,  1.,  0., -1.]]), reward=tensor([-0.2500]))]"
      ]
     },
     "execution_count": 24,
     "metadata": {},
     "output_type": "execute_result"
    }
   ],
   "source": [
    "transitions = memory.sample(BATCH_SIZE)\n",
    "transitions[:10]"
   ]
  },
  {
   "cell_type": "code",
   "execution_count": 25,
   "metadata": {},
   "outputs": [
    {
     "data": {
      "text/plain": [
       "tensor([[ 0.,  1.,  1.],\n",
       "        [ 0., -1., -1.],\n",
       "        [ 1.,  0., -1.]])"
      ]
     },
     "execution_count": 25,
     "metadata": {},
     "output_type": "execute_result"
    }
   ],
   "source": [
    "transitions[2].state.reshape(3,3)"
   ]
  },
  {
   "cell_type": "code",
   "execution_count": 26,
   "metadata": {},
   "outputs": [
    {
     "data": {
      "text/plain": [
       "tensor([[-1.,  1.,  1.],\n",
       "        [ 0., -1., -1.],\n",
       "        [ 1.,  0., -1.]])"
      ]
     },
     "execution_count": 26,
     "metadata": {},
     "output_type": "execute_result"
    }
   ],
   "source": [
    "transitions[2].next_state.reshape(3,3)"
   ]
  },
  {
   "cell_type": "code",
   "execution_count": 29,
   "metadata": {},
   "outputs": [
    {
     "data": {
      "text/plain": [
       "(tensor([True, True, True, True, True, True, True, True, True, True, True, True,\n",
       "         True, True, True, True, True, True, True, True, True, True, True, True,\n",
       "         True, True, True, True, True, True, True, True, True, True, True, True,\n",
       "         True, True, True, True, True, True, True, True, True, True, True, True,\n",
       "         True, True, True, True, True, True, True, True, True, True, True, True,\n",
       "         True, True, True, True, True, True, True, True, True, True, True, True,\n",
       "         True, True, True, True, True, True, True, True, True, True, True, True,\n",
       "         True, True, True, True, True, True, True, True, True, True, True, True,\n",
       "         True, True, True, True, True, True, True, True, True, True, True, True,\n",
       "         True, True, True, True, True, True, True, True, True, True, True, True,\n",
       "         True, True, True, True, True, True, True, True]),\n",
       " tensor([[ 1.,  0.,  0.,  ...,  0.,  0.,  0.],\n",
       "         [ 1.,  0., -1.,  ..., -1.,  0.,  0.],\n",
       "         [-1.,  1.,  1.,  ...,  1.,  0., -1.],\n",
       "         ...,\n",
       "         [-1., -1., -1.,  ...,  1.,  0.,  1.],\n",
       "         [-1.,  0., -1.,  ...,  1.,  0.,  0.],\n",
       "         [ 0.,  0.,  0.,  ..., -1.,  0.,  0.]]))"
      ]
     },
     "execution_count": 29,
     "metadata": {},
     "output_type": "execute_result"
    }
   ],
   "source": [
    "batch = Transition(*zip(*transitions))\n",
    "non_final_mask = torch.tensor(\n",
    "    tuple(map(lambda s: s is not None, batch.next_state)),\n",
    "    device=device,\n",
    "    dtype=torch.bool,\n",
    ")\n",
    "non_final_next_states = torch.cat([s for s in batch.next_state if s is not None])\n",
    "non_final_mask, non_final_next_states"
   ]
  },
  {
   "cell_type": "code",
   "execution_count": 41,
   "metadata": {},
   "outputs": [],
   "source": [
    "state_batch = torch.cat(batch.state)\n",
    "action_batch = torch.cat(batch.action)\n",
    "reward_batch = torch.cat(batch.reward)\n",
    "state_action_values = policy_net(state_batch).gather(1, action_batch)\n",
    "next_state_values = torch.zeros(BATCH_SIZE, device=device)\n",
    "with torch.no_grad():\n",
    "    next_state_values[non_final_mask] = target_net(non_final_next_states).max(1)[0]\n",
    "# Compute the expected Q values\n",
    "expected_state_action_values = (next_state_values * GAMMA) + reward_batch\n",
    "# GAMMA, reward_batch, next_state_values, expected_state_action_values\n",
    "# Compute Huber loss\n",
    "criterion = nn.SmoothL1Loss()\n",
    "loss = criterion(state_action_values, expected_state_action_values.unsqueeze(1))\n",
    "optimizer.zero_grad()\n",
    "loss.backward()\n",
    "torch.nn.utils.clip_grad_value_(policy_net.parameters(), 100)\n",
    "optimizer.step()"
   ]
  },
  {
   "cell_type": "code",
   "execution_count": 42,
   "metadata": {},
   "outputs": [
    {
     "data": {
      "text/plain": [
       "tensor([[131.4727],\n",
       "        [171.0643],\n",
       "        [122.2021],\n",
       "        [167.4568],\n",
       "        [153.2071],\n",
       "        [197.9800],\n",
       "        [166.0380],\n",
       "        [129.2001],\n",
       "        [160.2756],\n",
       "        [113.9097],\n",
       "        [181.4579],\n",
       "        [232.6203],\n",
       "        [214.6505],\n",
       "        [195.6632],\n",
       "        [185.3145],\n",
       "        [130.1539],\n",
       "        [169.2233],\n",
       "        [151.9648],\n",
       "        [113.7692],\n",
       "        [182.3386],\n",
       "        [131.4727],\n",
       "        [197.4608],\n",
       "        [199.3616],\n",
       "        [207.8167],\n",
       "        [183.1106],\n",
       "        [192.7307],\n",
       "        [130.3813],\n",
       "        [202.9764],\n",
       "        [181.7255],\n",
       "        [185.2500],\n",
       "        [143.9347],\n",
       "        [176.2543],\n",
       "        [176.2543],\n",
       "        [178.0670],\n",
       "        [150.5949],\n",
       "        [192.3976],\n",
       "        [193.5846],\n",
       "        [188.9070],\n",
       "        [139.0145],\n",
       "        [174.8818],\n",
       "        [178.0321],\n",
       "        [180.6385],\n",
       "        [129.2001],\n",
       "        [129.2001],\n",
       "        [125.0794],\n",
       "        [156.5194],\n",
       "        [134.2312],\n",
       "        [178.9544],\n",
       "        [100.7568],\n",
       "        [151.8437],\n",
       "        [181.8711],\n",
       "        [154.9190],\n",
       "        [116.7893],\n",
       "        [160.0299],\n",
       "        [176.2543],\n",
       "        [195.1157],\n",
       "        [127.6944],\n",
       "        [202.2319],\n",
       "        [153.2071],\n",
       "        [128.8586],\n",
       "        [168.3130],\n",
       "        [172.0423],\n",
       "        [172.6169],\n",
       "        [189.4634],\n",
       "        [162.5191],\n",
       "        [152.6094],\n",
       "        [160.7679],\n",
       "        [172.0423],\n",
       "        [187.0492],\n",
       "        [174.9963],\n",
       "        [169.2233],\n",
       "        [198.1074],\n",
       "        [122.7025],\n",
       "        [210.5921],\n",
       "        [111.9251],\n",
       "        [160.2786],\n",
       "        [162.6747],\n",
       "        [119.1419],\n",
       "        [180.6385],\n",
       "        [127.3576],\n",
       "        [197.2708],\n",
       "        [138.7631],\n",
       "        [148.0919],\n",
       "        [129.8459],\n",
       "        [178.4694],\n",
       "        [129.2001],\n",
       "        [178.4960],\n",
       "        [142.4401],\n",
       "        [106.4547],\n",
       "        [124.7430],\n",
       "        [220.0325],\n",
       "        [121.5569],\n",
       "        [167.0531],\n",
       "        [164.2614],\n",
       "        [185.3112],\n",
       "        [129.2001],\n",
       "        [159.9511],\n",
       "        [201.2468],\n",
       "        [198.7024],\n",
       "        [153.2071],\n",
       "        [195.8244],\n",
       "        [182.3386],\n",
       "        [214.6505],\n",
       "        [129.2001],\n",
       "        [178.0321],\n",
       "        [130.4874],\n",
       "        [185.3113],\n",
       "        [129.2001],\n",
       "        [149.3385],\n",
       "        [162.8719],\n",
       "        [168.3456],\n",
       "        [174.2065],\n",
       "        [144.8309],\n",
       "        [162.6747],\n",
       "        [184.0795],\n",
       "        [121.9972],\n",
       "        [129.2001],\n",
       "        [173.2830],\n",
       "        [153.2071],\n",
       "        [221.2886],\n",
       "        [145.7845],\n",
       "        [169.2233],\n",
       "        [129.2001],\n",
       "        [217.3240],\n",
       "        [179.5831],\n",
       "        [214.2447],\n",
       "        [174.9076],\n",
       "        [132.3009]], grad_fn=<GatherBackward0>)"
      ]
     },
     "execution_count": 42,
     "metadata": {},
     "output_type": "execute_result"
    }
   ],
   "source": [
    "state_action_values"
   ]
  },
  {
   "cell_type": "code",
   "execution_count": null,
   "metadata": {},
   "outputs": [],
   "source": []
  },
  {
   "cell_type": "code",
   "execution_count": null,
   "metadata": {},
   "outputs": [],
   "source": [
    "transitions = memory.sample(BATCH_SIZE)\n",
    "# Transpose the batch (see https://stackoverflow.com/a/19343/3343043 for\n",
    "# detailed explanation). This converts batch-array of Transitions\n",
    "# to Transition of batch-arrays.\n",
    "batch = Transition(*zip(*transitions))\n",
    "\n",
    "# Compute a mask of non-final states and concatenate the batch elements\n",
    "# (a final state would've been the one after which simulation ended)\n",
    "non_final_mask = torch.tensor(\n",
    "    tuple(map(lambda s: s is not None, batch.next_state)),\n",
    "    device=device,\n",
    "    dtype=torch.bool,\n",
    ")\n",
    "non_final_next_states = torch.cat([s for s in batch.next_state if s is not None])\n",
    "\n",
    "state_batch = torch.cat(batch.state)\n",
    "action_batch = torch.cat(batch.action)\n",
    "reward_batch = torch.cat(batch.reward)\n",
    "#print(state_batch.shape, action_batch.shape, reward_batch.shape)\n",
    "\n",
    "# Compute Q(s_t, a) - the model computes Q(s_t), then we select the\n",
    "# columns of actions taken. These are the actions which would've been taken\n",
    "# for each batch state according to policy_net\n",
    "state_action_values = policy_net(state_batch).gather(1, action_batch)\n",
    "\n",
    "# Compute V(s_{t+1}) for all next states.\n",
    "# Expected values of actions for non_final_next_states are computed based\n",
    "# on the \"older\" target_net; selecting their best reward with max(1)[0].\n",
    "# This is merged based on the mask, such that we'll have either the expected\n",
    "# state value or 0 in case the state was final.\n",
    "next_state_values = torch.zeros(BATCH_SIZE, device=device)\n",
    "with torch.no_grad():\n",
    "    next_state_values[non_final_mask] = target_net(non_final_next_states).max(1)[0]\n",
    "# Compute the expected Q values\n",
    "expected_state_action_values = (next_state_values * GAMMA) + reward_batch\n",
    "\n",
    "# Compute Huber loss\n",
    "criterion = nn.SmoothL1Loss()\n",
    "loss = criterion(state_action_values, expected_state_action_values.unsqueeze(1))\n",
    "\n",
    "# Optimize the model\n",
    "optimizer.zero_grad()\n",
    "loss.backward()\n",
    "# In-place gradient clipping\n",
    "torch.nn.utils.clip_grad_value_(policy_net.parameters(), 100)\n",
    "optimizer.step()"
   ]
  },
  {
   "attachments": {},
   "cell_type": "markdown",
   "metadata": {},
   "source": [
    "# Save Model"
   ]
  },
  {
   "cell_type": "code",
   "execution_count": null,
   "metadata": {},
   "outputs": [],
   "source": [
    "torch.save(target_net.state_dict())\n",
    "#torch.save(policy_net.state_dict(), PATH)"
   ]
  },
  {
   "cell_type": "code",
   "execution_count": null,
   "metadata": {},
   "outputs": [],
   "source": [
    "# Load model\n",
    "model = TheModelClass(*args, **kwargs)\n",
    "model.load_state_dict(torch.load(PATH))\n",
    "model.eval()"
   ]
  }
 ],
 "metadata": {
  "kernelspec": {
   "display_name": "Python 3",
   "language": "python",
   "name": "python3"
  },
  "language_info": {
   "codemirror_mode": {
    "name": "ipython",
    "version": 3
   },
   "file_extension": ".py",
   "mimetype": "text/x-python",
   "name": "python",
   "nbconvert_exporter": "python",
   "pygments_lexer": "ipython3",
   "version": "3.10.2"
  },
  "orig_nbformat": 4,
  "vscode": {
   "interpreter": {
    "hash": "3d9784d0c1fa72e3976f2fe5132dac07a008d610edaa6b89863035833cd9bb32"
   }
  }
 },
 "nbformat": 4,
 "nbformat_minor": 2
}
