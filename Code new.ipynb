{
 "cells": [
  {
   "cell_type": "code",
   "execution_count": 1,
   "metadata": {},
   "outputs": [],
   "source": [
    "# import sys\n",
    "# sys.path.append(r\"C:\\Users\\Documents\\Code\\TicTacToe\\gym-TicTacToe\")\n",
    "\n",
    "import numpy as np\n",
    "from numpy.random import default_rng\n",
    "rng = default_rng()\n",
    "import matplotlib.pyplot as plt\n",
    "import gym\n",
    "from gym import spaces\n",
    "import pygame\n",
    "import gym_TicTacToe\n",
    "import time"
   ]
  },
  {
   "cell_type": "code",
   "execution_count": 5,
   "metadata": {},
   "outputs": [
    {
     "name": "stdout",
     "output_type": "stream",
     "text": [
      "Debug!\n"
     ]
    },
    {
     "name": "stderr",
     "output_type": "stream",
     "text": [
      "c:\\Users\\jbarker\\AppData\\Local\\Programs\\Python\\Python310\\lib\\site-packages\\gym\\utils\\passive_env_checker.py:233: DeprecationWarning: `np.bool8` is a deprecated alias for `np.bool_`.  (Deprecated NumPy 1.24)\n",
      "  if not isinstance(terminated, (bool, np.bool8)):\n"
     ]
    },
    {
     "name": "stdout",
     "output_type": "stream",
     "text": [
      "[ 0  0  0 -1  0  0  0  0  0] -1\n",
      "[ 0  1  0 -1  0  0  0  0  0] -1\n",
      "[ 0  1  0 -1  0  0  0 -1  0] -1\n",
      "[ 0  1  0 -1  0  0  1 -1  0] -1\n",
      "[ 0  1  0 -1 -1  0  1 -1  0] -1\n",
      "[ 1  1  0 -1 -1  0  1 -1  0] -1\n",
      "[ 1  1 -1 -1 -1  0  1 -1  0] -1\n",
      "[ 1  1 -1 -1 -1  0  1 -1  1] 0\n"
     ]
    },
    {
     "ename": "",
     "evalue": "",
     "output_type": "error",
     "traceback": [
      "\u001b[1;31mThe Kernel crashed while executing code in the the current cell or a previous cell. Please review the code in the cell(s) to identify a possible cause of the failure. Click <a href='https://aka.ms/vscodeJupyterKernelCrash'>here</a> for more info. View Jupyter <a href='command:jupyter.viewOutput'>log</a> for further details."
     ]
    }
   ],
   "source": [
    "env = gym.make(\"gym_TicTacToe/TicTacToe-v0\", render_mode=\"human\")\n",
    "observation, info = env.reset()\n",
    "#env.step(env.action_space.sample())\n",
    "#env.step(env.action_space.sample())\n",
    "env.render()\n",
    "observation, info\n",
    "\n",
    "for turn in range(9):\n",
    "  observation, reward, terminated,_,_ = env.step(env.get_random_move())\n",
    "  #env.render()\n",
    "  print(observation, reward)\n",
    "  time.sleep(1)\n",
    "  if terminated:\n",
    "    break;"
   ]
  },
  {
   "cell_type": "code",
   "execution_count": 3,
   "metadata": {},
   "outputs": [
    {
     "data": {
      "text/plain": [
       "array([[-1.,  1., -1.],\n",
       "       [ 1.,  1.,  1.],\n",
       "       [-1.,  1., -1.]])"
      ]
     },
     "execution_count": 3,
     "metadata": {},
     "output_type": "execute_result"
    }
   ],
   "source": [
    "# Populate board for testing\n",
    "board = np.zeros((3, 3))\n",
    "player = [1, -1][rng.integers(2)]\n",
    "for round in range(9):\n",
    "  available_moves = np.where(board == 0)\n",
    "  num_moves = len(available_moves[0])\n",
    "  random_choice = rng.integers(num_moves)\n",
    "  board[available_moves[0][random_choice], available_moves[1][random_choice]] = player\n",
    "  player = player * -1\n",
    "board"
   ]
  },
  {
   "cell_type": "code",
   "execution_count": 1,
   "metadata": {},
   "outputs": [
    {
     "ename": "NameError",
     "evalue": "name 'env' is not defined",
     "output_type": "error",
     "traceback": [
      "\u001b[1;31m---------------------------------------------------------------------------\u001b[0m",
      "\u001b[1;31mNameError\u001b[0m                                 Traceback (most recent call last)",
      "\u001b[1;32mc:\\Users\\jbarker\\Documents\\GitHub\\TicTacToe\\Code new.ipynb Cell 5\u001b[0m line \u001b[0;36m1\n\u001b[1;32m----> <a href='vscode-notebook-cell:/c%3A/Users/jbarker/Documents/GitHub/TicTacToe/Code%20new.ipynb#W3sZmlsZQ%3D%3D?line=0'>1</a>\u001b[0m env\u001b[39m.\u001b[39mclose()\n",
      "\u001b[1;31mNameError\u001b[0m: name 'env' is not defined"
     ]
    }
   ],
   "source": [
    "env.close()"
   ]
  },
  {
   "attachments": {},
   "cell_type": "markdown",
   "metadata": {},
   "source": [
    "# Reinforcement Learning\n",
    "\n",
    "Reference: https://pytorch.org/tutorials/intermediate/reinforcement_q_learning.html\n"
   ]
  },
  {
   "cell_type": "code",
   "execution_count": 2,
   "metadata": {},
   "outputs": [
    {
     "name": "stdout",
     "output_type": "stream",
     "text": [
      "Debug!\n"
     ]
    }
   ],
   "source": [
    "import math\n",
    "import random\n",
    "import matplotlib\n",
    "from collections import namedtuple, deque\n",
    "from itertools import count\n",
    "\n",
    "import torch\n",
    "import torch.nn as nn\n",
    "import torch.optim as optim\n",
    "import torch.nn.functional as F\n",
    "\n",
    "env = gym.make(\"gym_TicTacToe/TicTacToe-v0\")\n",
    "\n",
    "# set up matplotlib\n",
    "is_ipython = \"inline\" in matplotlib.get_backend()\n",
    "if is_ipython:\n",
    "    from IPython import display\n",
    "\n",
    "plt.ion()\n",
    "\n",
    "# if gpu is to be used\n",
    "device = torch.device(\"cuda\" if torch.cuda.is_available() else \"cpu\")\n",
    "\n",
    "Transition = namedtuple(\"Transition\", (\"state\", \"action\", \"next_state\", \"reward\"))\n",
    "\n",
    "class ReplayMemory(object):\n",
    "    def __init__(self, capacity):\n",
    "        self.memory = deque([], maxlen=capacity)\n",
    "\n",
    "    def push(self, *args):\n",
    "        \"\"\"Save a transition\"\"\"\n",
    "        self.memory.append(Transition(*args))\n",
    "\n",
    "    def sample(self, batch_size):\n",
    "        return random.sample(self.memory, batch_size)\n",
    "\n",
    "    def __len__(self):\n",
    "        return len(self.memory)\n",
    "\n",
    "\n",
    "class DQN(nn.Module):\n",
    "    def __init__(self, n_observations, n_actions, layer_size=32):\n",
    "        super(DQN, self).__init__()\n",
    "        self.layer1 = nn.Linear(n_observations, layer_size)\n",
    "        self.layer2 = nn.Linear(layer_size, layer_size)\n",
    "        self.layer3 = nn.Linear(layer_size, n_actions)\n",
    "\n",
    "    # Called with either one element to determine next action, or a batch\n",
    "    # during optimization. Returns tensor([[left0exp,right0exp]...]).\n",
    "    def forward(self, x):\n",
    "        x = F.relu(self.layer1(x))\n",
    "        x = F.relu(self.layer2(x))\n",
    "        return self.layer3(x)\n",
    "\n",
    "\n",
    "BATCH_SIZE = 128  # BATCH_SIZE is the number of transitions sampled from the replay buffer\n",
    "GAMMA = 0.99  # GAMMA is the discount factor\n",
    "EPS_START = 0.9  # EPS_START is the starting value of epsilon\n",
    "EPS_END = 0.05  # EPS_END is the final value of epsilon\n",
    "EPS_DECAY = 1000  # EPS_DECAY controls the rate of exponential decay of epsilon, higher means a slower decay\n",
    "TAU = 0.005  # TAU is the update rate of the target network\n",
    "LR = 1e-4  # LR is the learning rate of the AdamW optimizer\n",
    "\n",
    "observation, info = env.reset()\n",
    "n_observations = len(observation)\n",
    "n_actions = env.action_space.n\n",
    "\n",
    "policy_net = DQN(n_observations, n_actions).to(device)\n",
    "target_net = DQN(n_observations, n_actions).to(device)\n",
    "target_net.load_state_dict(policy_net.state_dict())\n",
    "\n",
    "optimizer = optim.AdamW(policy_net.parameters(), lr=LR, amsgrad=True)\n",
    "memory = ReplayMemory(10000)\n",
    "\n",
    "steps_done = 0\n",
    "\n",
    "def select_action(observation):\n",
    "    global steps_done\n",
    "    steps_done += 1\n",
    "    sample = random.random()\n",
    "    eps_threshold = EPS_END + (EPS_START - EPS_END) * math.exp(-1.0 * steps_done / EPS_DECAY)\n",
    "    if sample > eps_threshold:\n",
    "        with torch.no_grad():\n",
    "            return select_best_valid_action(observation)\n",
    "\n",
    "    # Randomly select move based on eps or if policy net move is invalid.\n",
    "    return torch.tensor([[env.get_random_move()]], device=device, dtype=torch.int8)\n",
    "\n",
    "def select_best_valid_action(observation):\n",
    "    \"\"\"\n",
    "    Selects the best valid action based on the output of the policy network.\n",
    "\n",
    "    :param policy_net_output: A tensor with the output of the policy network.\n",
    "    :return: The index of the best valid action.\n",
    "    \"\"\"\n",
    "    # Sort the actions based on their values in descending order\n",
    "    policy_net_output = policy_net(observation)\n",
    "    sorted_indices = torch.argsort(policy_net_output, descending=True)[0]\n",
    "\n",
    "    # Iterate over the sorted indices and return the first valid action\n",
    "    for idx in sorted_indices:\n",
    "        if idx.item() in env.get_available_moves():\n",
    "            return idx.view(1,1)\n",
    "            \n",
    "    # return random action as a fallback\n",
    "    return torch.tensor([[env.get_random_move()]], device=device, dtype=torch.int8)\n",
    "\n",
    "def select_best_action(observation):\n",
    "    if policy_net(observation).max(1)[1].view(1,1).item() in env.get_available_moves():\n",
    "        return policy_net(observation).max(1)[1].view(1,1)\n",
    "    return torch.tensor([[env.get_random_move()]], device=device, dtype=torch.int8)\n",
    "\n",
    "episode_durations = []\n",
    "\n",
    "def plot_durations(show_result=False):\n",
    "    plt.figure(1)\n",
    "    durations_t = torch.tensor(episode_durations, dtype=torch.float)\n",
    "    if show_result:\n",
    "        plt.title(\"Result\")\n",
    "    else:\n",
    "        plt.clf()\n",
    "        plt.title(\"Training...\")\n",
    "    \n",
    "    plt.xlabel(\"Episode\")\n",
    "    plt.ylabel(\"Duration\")\n",
    "    plt.plot(durations_t.numpy())\n",
    "    if len(durations_t) >= 100:\n",
    "        # Take 100 episode averages and plot them too\n",
    "        means = durations_t.unfold(0, 100, 1).mean(1).view(-1)\n",
    "        means = torch.cat((torch.zeros(99), means))\n",
    "        plt.plot(means.numpy())\n",
    "\n",
    "    plt.pause(0.001)  # pause a bit so that plots are updated\n",
    "    if is_ipython:\n",
    "        if not show_result:\n",
    "            display.display(plt.gcf())\n",
    "            display.clear_output(wait=True)\n",
    "        else:\n",
    "            display.display(plt.gcf())\n",
    "\n",
    "def optimize_model():\n",
    "    if len(memory) < BATCH_SIZE:\n",
    "        return\n",
    "    transitions = memory.sample(BATCH_SIZE)\n",
    "    # Transpose the batch (see https://stackoverflow.com/a/19343/3343043 for\n",
    "    # detailed explanation). This converts batch-array of Transitions\n",
    "    # to Transition of batch-arrays.\n",
    "    batch = Transition(*zip(*transitions))\n",
    "\n",
    "    # Compute a mask of non-final states and concatenate the batch elements\n",
    "    # (a final state would've been the one after which simulation ended)\n",
    "    non_final_mask = torch.tensor(\n",
    "        tuple(map(lambda s: s is not None, batch.next_state)),\n",
    "        device=device,\n",
    "        dtype=torch.bool,\n",
    "    )\n",
    "    non_final_next_states = torch.cat([s for s in batch.next_state if s is not None])\n",
    "\n",
    "    state_batch = torch.cat(batch.state)\n",
    "    action_batch = torch.cat(batch.action)\n",
    "    reward_batch = torch.cat(batch.reward)\n",
    "    #print(state_batch.shape, action_batch.shape, reward_batch.shape)\n",
    "\n",
    "    # Compute Q(s_t, a) - the model computes Q(s_t), then we select the\n",
    "    # columns of actions taken. These are the actions which would've been taken\n",
    "    # for each batch state according to policy_net\n",
    "    state_action_values = policy_net(state_batch).gather(1, action_batch)\n",
    "\n",
    "    # Compute V(s_{t+1}) for all next states.\n",
    "    # Expected values of actions for non_final_next_states are computed based\n",
    "    # on the \"older\" target_net; selecting their best reward with max(1)[0].\n",
    "    # This is merged based on the mask, such that we'll have either the expected\n",
    "    # state value or 0 in case the state was final.\n",
    "    next_state_values = torch.zeros(BATCH_SIZE, device=device)\n",
    "    with torch.no_grad():\n",
    "        next_state_values[non_final_mask] = target_net(non_final_next_states).max(1)[0]\n",
    "    # Compute the expected Q values\n",
    "    expected_state_action_values = (next_state_values * GAMMA) + reward_batch\n",
    "\n",
    "    # Compute Huber loss\n",
    "    criterion = nn.SmoothL1Loss()\n",
    "    loss = criterion(state_action_values, expected_state_action_values.unsqueeze(1))\n",
    "\n",
    "    # Optimize the model\n",
    "    optimizer.zero_grad()\n",
    "    loss.backward()\n",
    "    # In-place gradient clipping\n",
    "    torch.nn.utils.clip_grad_value_(policy_net.parameters(), 100)\n",
    "    optimizer.step()"
   ]
  },
  {
   "cell_type": "code",
   "execution_count": 4,
   "metadata": {},
   "outputs": [
    {
     "name": "stdout",
     "output_type": "stream",
     "text": [
      "Complete\n"
     ]
    },
    {
     "data": {
      "image/png": "[encoded data removed]",
      "text/plain": [
       "<Figure size 640x480 with 1 Axes>"
      ]
     },
     "metadata": {},
     "output_type": "display_data"
    },
    {
     "data": {
      "text/plain": [
       "<Figure size 640x480 with 0 Axes>"
      ]
     },
     "metadata": {},
     "output_type": "display_data"
    },
    {
     "data": {
      "text/plain": [
       "<Figure size 640x480 with 0 Axes>"
      ]
     },
     "metadata": {},
     "output_type": "display_data"
    }
   ],
   "source": [
    "num_episodes = 20000\n",
    "\n",
    "for i_episode in range(num_episodes):\n",
    "\n",
    "    # Initialize the environment and get it's state/observation\n",
    "    observation, info = env.reset()\n",
    "    observation = torch.tensor(observation, dtype=torch.float32, device=device).unsqueeze(0)\n",
    "    players_turn = info['players_turn']\n",
    "    \n",
    "    for t in count():\n",
    "        players_turn *= -1 # Alternate player turns\n",
    "        if players_turn == 1: # Player 1 chooses randomly\n",
    "            action = torch.tensor([[env.get_random_move()]], device=device, dtype=torch.int8)\n",
    "            observation, _, terminated, _, _ = env.step(action.item())\n",
    "            observation = torch.tensor(observation, dtype=torch.float32, device=device).unsqueeze(0)\n",
    "        else: # Player -1 is the Q-learner\n",
    "            action = select_action(observation)\n",
    "            observation_prev = observation\n",
    "            observation, reward, terminated, _, _ = env.step(action.item())\n",
    "            observation = torch.tensor(observation, dtype=torch.float32, device=device).unsqueeze(0)\n",
    "            reward = torch.tensor([reward], device=device)\n",
    "\n",
    "            # Store the transition in memory\n",
    "            memory.push(observation_prev, action, observation, reward)\n",
    "\n",
    "            # Perform one step of the optimization (on the policy network)\n",
    "            optimize_model()\n",
    "\n",
    "            # Soft update of the target network's weights\n",
    "            # θ′ ← τ θ + (1 −τ )θ′\n",
    "            target_net_state_dict = target_net.state_dict()\n",
    "            policy_net_state_dict = policy_net.state_dict()\n",
    "            for key in policy_net_state_dict:\n",
    "                target_net_state_dict[key] = policy_net_state_dict[key] * \\\n",
    "                    TAU + target_net_state_dict[key] * (1 - TAU)\n",
    "            target_net.load_state_dict(target_net_state_dict)\n",
    "\n",
    "        if terminated:\n",
    "            episode_durations.append(t + 1)\n",
    "            plot_durations()\n",
    "            break\n",
    "\n",
    "print(\"Complete\")\n",
    "plot_durations(show_result=True)\n",
    "plt.ioff()\n",
    "plt.show()"
   ]
  },
  {
   "attachments": {},
   "cell_type": "markdown",
   "metadata": {},
   "source": [
    "# View model plays"
   ]
  },
  {
   "cell_type": "code",
   "execution_count": 54,
   "metadata": {},
   "outputs": [
    {
     "name": "stdout",
     "output_type": "stream",
     "text": [
      "\n",
      "Round 2\n",
      "[ 46.46959    0.        64.284904  27.97768   56.467564  53.675007\n",
      "  98.4396    53.179466 100.      ]\n",
      "\n",
      "Round 4\n",
      "[ 46.481403   0.        64.2991    28.006453  56.515713  53.697308\n",
      "  98.4342    53.186256 100.      ]\n",
      "\n",
      "Round 6\n",
      "[ 46.482082   0.        64.298996  28.005978  56.515938  53.69692\n",
      "  98.43533   53.187477 100.      ]\n"
     ]
    },
    {
     "data": {
      "image/png": "[encoded data removed]",
      "text/plain": [
       "<Figure size 1800x200 with 9 Axes>"
      ]
     },
     "metadata": {},
     "output_type": "display_data"
    }
   ],
   "source": [
    "import matplotlib.pyplot as plt\n",
    "import numpy as np\n",
    "import torch\n",
    "from matplotlib import cm\n",
    "\n",
    "def normalize_values(values):\n",
    "    min_val = torch.min(values)\n",
    "    max_val = torch.max(values)\n",
    "    normalized = (values - min_val) / (max_val - min_val)\n",
    "    return normalized.numpy()*100\n",
    "\n",
    "def draw_board(axes, board, round, q_values=None):\n",
    "    axes[round].set(title=f\"Round {round + 1}\")\n",
    "    axes[round].axis(\"off\")\n",
    "    axes[round].set_xlim(-0.5, 2.5)\n",
    "    axes[round].set_ylim(-0.5, 2.5)\n",
    "    axes[round].plot([0.5, 0.5], [-0.5, 2.5], color=\"black\", linewidth=3)\n",
    "    axes[round].plot([1.5, 1.5], [-0.5, 2.5], color=\"black\", linewidth=3)\n",
    "    axes[round].plot([-0.5, 2.5], [0.5, 0.5], color=\"black\", linewidth=3)\n",
    "    axes[round].plot([-0.5, 2.5], [1.5, 1.5], color=\"black\", linewidth=3)\n",
    "\n",
    "    # Plot each square with color based on Q-value\n",
    "    if q_values is not None:\n",
    "        cmap = cm.get_cmap('Blues')\n",
    "        for i in range(3):\n",
    "            for j in range(3):\n",
    "                color = cmap(int(q_values[i * 3 + j]))\n",
    "                # axes[round].add_patch(plt.Rectangle((j, 2-i), 1, 1, color=color, alpha=0.3))\n",
    "                axes[round].add_patch(plt.Rectangle((j-0.5, 1.5-i), 1, 1, color=color, alpha=0.8))\n",
    "\n",
    "    taken_spaces = np.where(board != 0)\n",
    "    for i in range(len(taken_spaces[0])):\n",
    "        player = \"X\" if board[taken_spaces[0][i], taken_spaces[1][i]] == 1 else \"O\"\n",
    "        axes[round].annotate(\n",
    "            player,\n",
    "            (taken_spaces[0][i], taken_spaces[1][i]),\n",
    "            size=20,\n",
    "            ha=\"center\", va=\"center\", weight='bold'\n",
    "        )\n",
    "\n",
    "def play_game():\n",
    "    fig, axes = plt.subplots(1, 9, figsize=(18, 2))\n",
    "    observation, info = env.reset()\n",
    "    players_turn = info['players_turn']\n",
    "    final_round = None  # Track the last round played\n",
    "\n",
    "    for round in range(9):\n",
    "        \n",
    "        players_turn *= -1 # Alternate player turns\n",
    "        if players_turn == 1: # Player 1 chooses randomly\n",
    "            q_values=None\n",
    "            action = torch.tensor([[env.get_random_move()]], device=device, dtype=torch.int8)\n",
    "        else: # Player -1 is the Q-learner\n",
    "            observation = torch.tensor(observation, dtype=torch.float32, device=device).unsqueeze(0)\n",
    "            q_values = policy_net(observation).detach().squeeze()\n",
    "            q_values = normalize_values(q_values)\n",
    "            action = select_best_valid_action(observation)\n",
    "            print(f\"\\nRound {round+1}\")\n",
    "            # print(observation)\n",
    "            print(q_values)\n",
    "            board = np.zeros(3*3)\n",
    "            board[action] = 1\n",
    "            #print(f\"Best action: {action[0].item()} \\n\", np.flipud(board.reshape(3,3)))\n",
    "\n",
    "        observation, _, terminated, _, _ = env.step(action.item())\n",
    "        board = observation.reshape(3,3)\n",
    "        draw_board(axes, board, round, q_values=q_values)\n",
    "        if terminated:\n",
    "            final_round = round\n",
    "            break\n",
    "\n",
    "    # If the game ends early, fill the remaining axes\n",
    "    for round in range(final_round + 1, 9):\n",
    "        # You can either clear the extra axes\n",
    "        axes[round].clear()\n",
    "        axes[round].axis('off')\n",
    "    plt.show()\n",
    "\n",
    "play_game()"
   ]
  },
  {
   "cell_type": "code",
   "execution_count": 55,
   "metadata": {},
   "outputs": [
    {
     "name": "stdout",
     "output_type": "stream",
     "text": [
      "\n",
      "Round 2\n",
      "[ 46.47958    0.        64.2977    28.006702  56.514072  53.697937\n",
      "  98.431816  53.185333 100.      ]\n",
      "\n",
      "Round 4\n",
      "[ 46.47915    0.        64.29764   28.006277  56.512867  53.697544\n",
      "  98.43173   53.184467 100.      ]\n"
     ]
    },
    {
     "data": {
      "image/png": "[encoded data removed]",
      "text/plain": [
       "<Figure size 1800x200 with 9 Axes>"
      ]
     },
     "metadata": {},
     "output_type": "display_data"
    }
   ],
   "source": [
    "play_game()"
   ]
  },
  {
   "cell_type": "code",
   "execution_count": 50,
   "metadata": {},
   "outputs": [
    {
     "data": {
      "text/plain": [
       "tensor([[ 0., -1.,  1., -1.,  1., -1.,  1.,  0.,  1.]])"
      ]
     },
     "execution_count": 50,
     "metadata": {},
     "output_type": "execute_result"
    }
   ],
   "source": [
    "observation"
   ]
  },
  {
   "cell_type": "code",
   "execution_count": 49,
   "metadata": {},
   "outputs": [
    {
     "data": {
      "text/plain": [
       "tensor([16260702., 11665481., 18022284., 14434413., 17252858., 16974220.,\n",
       "        21396766., 16923474., 21551642.])"
      ]
     },
     "execution_count": 49,
     "metadata": {},
     "output_type": "execute_result"
    }
   ],
   "source": [
    "observation = torch.tensor(observation, dtype=torch.float32, device=device).unsqueeze(0)\n",
    "\n",
    "policy_net(observation).detach().squeeze()\n",
    "# q_values = normalize_values(q_values)\n",
    "# action = select_best_valid_action(observation)"
   ]
  },
  {
   "cell_type": "code",
   "execution_count": null,
   "metadata": {},
   "outputs": [],
   "source": []
  },
  {
   "cell_type": "code",
   "execution_count": 134,
   "metadata": {},
   "outputs": [
    {
     "name": "stdout",
     "output_type": "stream",
     "text": [
      "tensor([[0., 0., 0., 0., 0., 0., 0., 0., 0.]])\n"
     ]
    },
    {
     "data": {
      "text/plain": [
       "(6,\n",
       " tensor([[6]]),\n",
       " tensor([[-0.8908, -0.8682, -0.8030, -0.8230, -0.8942, -0.8972, -0.5665, -0.9281,\n",
       "          -0.9102]], grad_fn=<AddmmBackward0>))"
      ]
     },
     "execution_count": 134,
     "metadata": {},
     "output_type": "execute_result"
    }
   ],
   "source": [
    "# if policy_net(observation).max(1)[1].view(1,1).item() in env.get_available_moves()\n",
    "observation, info = env.reset()\n",
    "observation = torch.tensor(observation, dtype=torch.float32, device=device).unsqueeze(0)\n",
    "action = torch.tensor([[env.get_random_move()]], device=device, dtype=torch.int8)\n",
    "print(observation)\n",
    "print(policy_net(observation))\n",
    "observation, _, terminated, _, _ = env.step(action.item())\n",
    "observation = torch.tensor(observation, dtype=torch.float32, device=device).unsqueeze(0)\n",
    "policy_net(observation).max(1)[1].view(1,1).item(), policy_net(observation).max(1)[1].view(1,1), policy_net(observation)"
   ]
  },
  {
   "cell_type": "code",
   "execution_count": 90,
   "metadata": {},
   "outputs": [
    {
     "data": {
      "text/plain": [
       "tensor([[50.7902, 50.4324, 54.5763, 42.9875, 45.5905, 43.7930, 42.3887, 39.1728,\n",
       "         43.3058]], grad_fn=<AddmmBackward0>)"
      ]
     },
     "execution_count": 90,
     "metadata": {},
     "output_type": "execute_result"
    }
   ],
   "source": [
    "policy_net(observation)"
   ]
  },
  {
   "cell_type": "code",
   "execution_count": 93,
   "metadata": {},
   "outputs": [
    {
     "data": {
      "text/plain": [
       "array([0, 2, 3, 4, 5, 6, 7, 8], dtype=int64)"
      ]
     },
     "execution_count": 93,
     "metadata": {},
     "output_type": "execute_result"
    }
   ],
   "source": [
    "env.get_available_moves()"
   ]
  },
  {
   "cell_type": "code",
   "execution_count": 101,
   "metadata": {},
   "outputs": [
    {
     "data": {
      "text/plain": [
       "(tensor(7),\n",
       " 7,\n",
       " tensor([[50.7902, 50.4324, 54.5763, 42.9875, 45.5905, 43.7930, 42.3887, 39.1728,\n",
       "          43.3058]], grad_fn=<AddmmBackward0>),\n",
       " tensor([[2, 0, 1, 4, 5, 8, 3, 6, 7]]))"
      ]
     },
     "execution_count": 101,
     "metadata": {},
     "output_type": "execute_result"
    }
   ],
   "source": [
    "idx, idx.item(), policy_net_output, torch.argsort(policy_net_output, descending=True)"
   ]
  },
  {
   "cell_type": "code",
   "execution_count": 109,
   "metadata": {},
   "outputs": [
    {
     "data": {
      "text/plain": [
       "tensor([2, 0, 1, 4, 5, 8, 3, 6, 7])"
      ]
     },
     "execution_count": 109,
     "metadata": {},
     "output_type": "execute_result"
    }
   ],
   "source": [
    "torch.argsort(policy_net_output, descending=True)[0]#.item()"
   ]
  },
  {
   "cell_type": "code",
   "execution_count": null,
   "metadata": {},
   "outputs": [],
   "source": [
    "tensor([[2, 0, 1, 4, 5, 8, 3, 6, 7]])"
   ]
  },
  {
   "cell_type": "code",
   "execution_count": 112,
   "metadata": {},
   "outputs": [
    {
     "data": {
      "text/plain": [
       "array([0, 2, 3, 4, 5, 6, 7, 8], dtype=int64)"
      ]
     },
     "execution_count": 112,
     "metadata": {},
     "output_type": "execute_result"
    }
   ],
   "source": [
    "env.get_available_moves()"
   ]
  },
  {
   "cell_type": "code",
   "execution_count": 111,
   "metadata": {},
   "outputs": [
    {
     "data": {
      "text/plain": [
       "8"
      ]
     },
     "execution_count": 111,
     "metadata": {},
     "output_type": "execute_result"
    }
   ],
   "source": [
    "env.get_available_moves()[idx.item()]"
   ]
  },
  {
   "cell_type": "code",
   "execution_count": null,
   "metadata": {},
   "outputs": [
    {
     "name": "stdout",
     "output_type": "stream",
     "text": [
      "2\n",
      "0\n",
      "4\n",
      "5\n",
      "8\n",
      "3\n",
      "6\n",
      "7\n"
     ]
    }
   ],
   "source": []
  },
  {
   "cell_type": "code",
   "execution_count": 129,
   "metadata": {},
   "outputs": [
    {
     "data": {
      "text/plain": [
       "tensor([[8]])"
      ]
     },
     "execution_count": 129,
     "metadata": {},
     "output_type": "execute_result"
    }
   ],
   "source": [
    "def select_best_valid_action(observation):\n",
    "    \"\"\"\n",
    "    Selects the best valid action based on the output of the policy network.\n",
    "\n",
    "    :param policy_net_output: A tensor with the output of the policy network.\n",
    "    :return: The index of the best valid action.\n",
    "    \"\"\"\n",
    "    # Sort the actions based on their values in descending order\n",
    "    policy_net_output = policy_net(observation)\n",
    "    sorted_indices = torch.argsort(policy_net_output, descending=True)[0]\n",
    "\n",
    "    # Iterate over the sorted indices and return the first valid action\n",
    "    for idx in sorted_indices:\n",
    "        if idx.item() in env.get_available_moves():\n",
    "            return idx.view(1,1)\n",
    "    # If no valid actions, return None\n",
    "    return None\n",
    "\n",
    "select_best_valid_action(policy_net(observation))"
   ]
  },
  {
   "cell_type": "code",
   "execution_count": 65,
   "metadata": {},
   "outputs": [
    {
     "ename": "NameError",
     "evalue": "name 'torch' is not defined",
     "output_type": "error",
     "traceback": [
      "\u001b[1;31m---------------------------------------------------------------------------\u001b[0m",
      "\u001b[1;31mNameError\u001b[0m                                 Traceback (most recent call last)",
      "\u001b[1;32mc:\\Users\\jbarker\\Documents\\Code\\DeepLearning\\TicTacToe\\Code copy.ipynb Cell 11\u001b[0m line \u001b[0;36m1\n\u001b[1;32m----> <a href='vscode-notebook-cell:/c%3A/Users/jbarker/Documents/Code/DeepLearning/TicTacToe/Code%20copy.ipynb#X12sZmlsZQ%3D%3D?line=0'>1</a>\u001b[0m play_game()\n\u001b[0;32m      <a href='vscode-notebook-cell:/c%3A/Users/jbarker/Documents/Code/DeepLearning/TicTacToe/Code%20copy.ipynb#X12sZmlsZQ%3D%3D?line=1'>2</a>\u001b[0m plt\u001b[39m.\u001b[39mshow()\n",
      "\u001b[1;32mc:\\Users\\jbarker\\Documents\\Code\\DeepLearning\\TicTacToe\\Code copy.ipynb Cell 11\u001b[0m line \u001b[0;36m2\n\u001b[0;32m     <a href='vscode-notebook-cell:/c%3A/Users/jbarker/Documents/Code/DeepLearning/TicTacToe/Code%20copy.ipynb#X12sZmlsZQ%3D%3D?line=25'>26</a>\u001b[0m \u001b[39mdef\u001b[39;00m \u001b[39mplay_game\u001b[39m():\n\u001b[0;32m     <a href='vscode-notebook-cell:/c%3A/Users/jbarker/Documents/Code/DeepLearning/TicTacToe/Code%20copy.ipynb#X12sZmlsZQ%3D%3D?line=26'>27</a>\u001b[0m     fig, axes \u001b[39m=\u001b[39m plt\u001b[39m.\u001b[39msubplots(\u001b[39m1\u001b[39m, \u001b[39m9\u001b[39m, figsize\u001b[39m=\u001b[39m(\u001b[39m18\u001b[39m, \u001b[39m2\u001b[39m))\n\u001b[1;32m---> <a href='vscode-notebook-cell:/c%3A/Users/jbarker/Documents/Code/DeepLearning/TicTacToe/Code%20copy.ipynb#X12sZmlsZQ%3D%3D?line=27'>28</a>\u001b[0m     observation, info \u001b[39m=\u001b[39m env\u001b[39m.\u001b[39;49mreset()\n\u001b[0;32m     <a href='vscode-notebook-cell:/c%3A/Users/jbarker/Documents/Code/DeepLearning/TicTacToe/Code%20copy.ipynb#X12sZmlsZQ%3D%3D?line=28'>29</a>\u001b[0m     player_dict \u001b[39m=\u001b[39m {\u001b[39m1\u001b[39m: \u001b[39m\"\u001b[39m\u001b[39mX\u001b[39m\u001b[39m\"\u001b[39m, \u001b[39m-\u001b[39m\u001b[39m1\u001b[39m: \u001b[39m\"\u001b[39m\u001b[39mO\u001b[39m\u001b[39m\"\u001b[39m}\n\u001b[0;32m     <a href='vscode-notebook-cell:/c%3A/Users/jbarker/Documents/Code/DeepLearning/TicTacToe/Code%20copy.ipynb#X12sZmlsZQ%3D%3D?line=29'>30</a>\u001b[0m     players_turn \u001b[39m=\u001b[39m info[\u001b[39m'\u001b[39m\u001b[39mplayers_turn\u001b[39m\u001b[39m'\u001b[39m]\n",
      "File \u001b[1;32mc:\\Users\\jbarker\\AppData\\Local\\Programs\\Python\\Python310\\lib\\site-packages\\gym\\wrappers\\time_limit.py:68\u001b[0m, in \u001b[0;36mTimeLimit.reset\u001b[1;34m(self, **kwargs)\u001b[0m\n\u001b[0;32m     59\u001b[0m \u001b[39m\"\"\"Resets the environment with :param:`**kwargs` and sets the number of steps elapsed to zero.\u001b[39;00m\n\u001b[0;32m     60\u001b[0m \n\u001b[0;32m     61\u001b[0m \u001b[39mArgs:\u001b[39;00m\n\u001b[1;32m   (...)\u001b[0m\n\u001b[0;32m     65\u001b[0m \u001b[39m    The reset environment\u001b[39;00m\n\u001b[0;32m     66\u001b[0m \u001b[39m\"\"\"\u001b[39;00m\n\u001b[0;32m     67\u001b[0m \u001b[39mself\u001b[39m\u001b[39m.\u001b[39m_elapsed_steps \u001b[39m=\u001b[39m \u001b[39m0\u001b[39m\n\u001b[1;32m---> 68\u001b[0m \u001b[39mreturn\u001b[39;00m \u001b[39mself\u001b[39m\u001b[39m.\u001b[39menv\u001b[39m.\u001b[39mreset(\u001b[39m*\u001b[39m\u001b[39m*\u001b[39mkwargs)\n",
      "File \u001b[1;32mc:\\Users\\jbarker\\AppData\\Local\\Programs\\Python\\Python310\\lib\\site-packages\\gym\\wrappers\\order_enforcing.py:42\u001b[0m, in \u001b[0;36mOrderEnforcing.reset\u001b[1;34m(self, **kwargs)\u001b[0m\n\u001b[0;32m     40\u001b[0m \u001b[39m\"\"\"Resets the environment with `kwargs`.\"\"\"\u001b[39;00m\n\u001b[0;32m     41\u001b[0m \u001b[39mself\u001b[39m\u001b[39m.\u001b[39m_has_reset \u001b[39m=\u001b[39m \u001b[39mTrue\u001b[39;00m\n\u001b[1;32m---> 42\u001b[0m \u001b[39mreturn\u001b[39;00m \u001b[39mself\u001b[39m\u001b[39m.\u001b[39menv\u001b[39m.\u001b[39mreset(\u001b[39m*\u001b[39m\u001b[39m*\u001b[39mkwargs)\n",
      "File \u001b[1;32mc:\\Users\\jbarker\\AppData\\Local\\Programs\\Python\\Python310\\lib\\site-packages\\gym\\wrappers\\env_checker.py:47\u001b[0m, in \u001b[0;36mPassiveEnvChecker.reset\u001b[1;34m(self, **kwargs)\u001b[0m\n\u001b[0;32m     45\u001b[0m     \u001b[39mreturn\u001b[39;00m env_reset_passive_checker(\u001b[39mself\u001b[39m\u001b[39m.\u001b[39menv, \u001b[39m*\u001b[39m\u001b[39m*\u001b[39mkwargs)\n\u001b[0;32m     46\u001b[0m \u001b[39melse\u001b[39;00m:\n\u001b[1;32m---> 47\u001b[0m     \u001b[39mreturn\u001b[39;00m \u001b[39mself\u001b[39m\u001b[39m.\u001b[39menv\u001b[39m.\u001b[39mreset(\u001b[39m*\u001b[39m\u001b[39m*\u001b[39mkwargs)\n",
      "File \u001b[1;32mc:\\users\\jbarker\\documents\\code\\deeplearning\\tictactoe\\gym-tictactoe\\gym_TicTacToe\\envs\\TicTacToe.py:54\u001b[0m, in \u001b[0;36mTicTacToeEnv.reset\u001b[1;34m(self, seed, options)\u001b[0m\n\u001b[0;32m     51\u001b[0m \u001b[39mself\u001b[39m\u001b[39m.\u001b[39mplayer_dict \u001b[39m=\u001b[39m {\u001b[39m1\u001b[39m: \u001b[39m\"\u001b[39m\u001b[39mX\u001b[39m\u001b[39m\"\u001b[39m, \u001b[39m-\u001b[39m\u001b[39m1\u001b[39m: \u001b[39m\"\u001b[39m\u001b[39mO\u001b[39m\u001b[39m\"\u001b[39m}\n\u001b[0;32m     52\u001b[0m \u001b[39mself\u001b[39m\u001b[39m.\u001b[39mturn_count \u001b[39m=\u001b[39m \u001b[39m0\u001b[39m\n\u001b[1;32m---> 54\u001b[0m observation \u001b[39m=\u001b[39m \u001b[39mself\u001b[39;49m\u001b[39m.\u001b[39;49m_get_obs()\n\u001b[0;32m     55\u001b[0m info \u001b[39m=\u001b[39m \u001b[39mself\u001b[39m\u001b[39m.\u001b[39m_get_info()\n\u001b[0;32m     57\u001b[0m \u001b[39mif\u001b[39;00m \u001b[39mself\u001b[39m\u001b[39m.\u001b[39mrender_mode \u001b[39m==\u001b[39m \u001b[39m\"\u001b[39m\u001b[39mhuman\u001b[39m\u001b[39m\"\u001b[39m:\n",
      "File \u001b[1;32mc:\\users\\jbarker\\documents\\code\\deeplearning\\tictactoe\\gym-tictactoe\\gym_TicTacToe\\envs\\TicTacToe.py:39\u001b[0m, in \u001b[0;36mTicTacToeEnv._get_obs\u001b[1;34m(self)\u001b[0m\n\u001b[0;32m     38\u001b[0m \u001b[39mdef\u001b[39;00m \u001b[39m_get_obs\u001b[39m(\u001b[39mself\u001b[39m):\n\u001b[1;32m---> 39\u001b[0m     \u001b[39mreturn\u001b[39;00m torch\u001b[39m.\u001b[39mtensor(\u001b[39mself\u001b[39m\u001b[39m.\u001b[39mboard, dtype\u001b[39m=\u001b[39mtorch\u001b[39m.\u001b[39mfloat32, device\u001b[39m=\u001b[39mdevice)\u001b[39m.\u001b[39munsqueeze(\u001b[39m0\u001b[39m)\n",
      "\u001b[1;31mNameError\u001b[0m: name 'torch' is not defined"
     ]
    }
   ],
   "source": [
    "play_game()\n",
    "plt.show()"
   ]
  },
  {
   "cell_type": "code",
   "execution_count": 23,
   "metadata": {},
   "outputs": [
    {
     "data": {
      "text/plain": [
       "tensor([[0., 0., 0.],\n",
       "        [0., 0., 0.],\n",
       "        [0., 0., 0.]])"
      ]
     },
     "execution_count": 23,
     "metadata": {},
     "output_type": "execute_result"
    }
   ],
   "source": [
    "observation.reshape(3,3)"
   ]
  },
  {
   "cell_type": "code",
   "execution_count": 13,
   "metadata": {},
   "outputs": [
    {
     "data": {
      "text/plain": [
       "tensor([[0., 0., 0.],\n",
       "        [0., 0., 0.],\n",
       "        [0., 0., 0.]])"
      ]
     },
     "execution_count": 13,
     "metadata": {},
     "output_type": "execute_result"
    }
   ],
   "source": [
    "observation, info = env.reset()\n",
    "observation.reshape(3,3)"
   ]
  },
  {
   "cell_type": "code",
   "execution_count": 7,
   "metadata": {},
   "outputs": [
    {
     "data": {
      "text/plain": [
       "array([[ 0,  0,  0],\n",
       "       [ 0,  0, -1],\n",
       "       [ 0,  0,  0]], dtype=int8)"
      ]
     },
     "execution_count": 7,
     "metadata": {},
     "output_type": "execute_result"
    }
   ],
   "source": [
    "observation, info = env.reset()\n",
    "observation = torch.tensor(observation, dtype=torch.float32, device=device).unsqueeze(0)\n",
    "\n",
    "action = select_action(observation)\n",
    "observation, reward, terminated, _, _ = env.step(action.item())\n",
    "\n",
    "if terminated:\n",
    "    next_state = None\n",
    "else:\n",
    "    next_state = torch.tensor(observation, dtype=torch.float32, device=device).unsqueeze(0)\n",
    "\n",
    "observation.reshape(3,3)"
   ]
  },
  {
   "cell_type": "code",
   "execution_count": 12,
   "metadata": {},
   "outputs": [
    {
     "data": {
      "text/plain": [
       "(False,\n",
       " array([[-1,  1,  1],\n",
       "        [-1,  0, -1],\n",
       "        [ 0,  1,  0]], dtype=int8))"
      ]
     },
     "execution_count": 12,
     "metadata": {},
     "output_type": "execute_result"
    }
   ],
   "source": [
    "observation = torch.tensor(observation, dtype=torch.float32, device=device).unsqueeze(0)\n",
    "action = select_action(observation)\n",
    "observation, reward, terminated, _, _ = env.step(action.item())\n",
    "terminated, observation.reshape(3,3)"
   ]
  },
  {
   "cell_type": "code",
   "execution_count": 51,
   "metadata": {},
   "outputs": [
    {
     "data": {
      "text/plain": [
       "(9, 9)"
      ]
     },
     "execution_count": 51,
     "metadata": {},
     "output_type": "execute_result"
    }
   ],
   "source": [
    "n_observations, n_actions"
   ]
  },
  {
   "attachments": {},
   "cell_type": "markdown",
   "metadata": {},
   "source": [
    "# Save Model"
   ]
  },
  {
   "cell_type": "code",
   "execution_count": null,
   "metadata": {},
   "outputs": [],
   "source": [
    "torch.save(target_net.state_dict())\n",
    "#torch.save(policy_net.state_dict(), PATH)"
   ]
  },
  {
   "cell_type": "code",
   "execution_count": null,
   "metadata": {},
   "outputs": [],
   "source": [
    "# Load model\n",
    "model = TheModelClass(*args, **kwargs)\n",
    "model.load_state_dict(torch.load(PATH))\n",
    "model.eval()"
   ]
  }
 ],
 "metadata": {
  "kernelspec": {
   "display_name": "Python 3",
   "language": "python",
   "name": "python3"
  },
  "language_info": {
   "codemirror_mode": {
    "name": "ipython",
    "version": 3
   },
   "file_extension": ".py",
   "mimetype": "text/x-python",
   "name": "python",
   "nbconvert_exporter": "python",
   "pygments_lexer": "ipython3",
   "version": "3.10.2"
  },
  "orig_nbformat": 4,
  "vscode": {
   "interpreter": {
    "hash": "3d9784d0c1fa72e3976f2fe5132dac07a008d610edaa6b89863035833cd9bb32"
   }
  }
 },
 "nbformat": 4,
 "nbformat_minor": 2
}
